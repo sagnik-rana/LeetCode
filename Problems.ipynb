{
 "cells": [
  {
   "cell_type": "markdown",
   "metadata": {},
   "source": [
    "### Two Sum"
   ]
  },
  {
   "cell_type": "markdown",
   "metadata": {},
   "source": [
    "Given an array of integers, return indices of the two numbers such that they add up to a specific target.\n",
    "\n",
    "You may assume that each input would have exactly one solution, and you may not use the same element twice.\n",
    "\n",
    "Example:\n",
    "\n",
    "Given nums = [2, 7, 11, 15], target = 9,\n",
    "\n",
    "Because nums[0] + nums[1] = 2 + 7 = 9,\n",
    "return [0, 1]."
   ]
  },
  {
   "cell_type": "code",
   "execution_count": 1,
   "metadata": {},
   "outputs": [
    {
     "name": "stdout",
     "output_type": "stream",
     "text": [
      "[0, 1]\n"
     ]
    }
   ],
   "source": [
    "class Solution:\n",
    "    \n",
    "    def twoSum(self, nums, target):\n",
    "        \"\"\"\n",
    "        :type nums: List[int]\n",
    "        :type target: int\n",
    "        :rtype: List[int]\n",
    "        \"\"\"\n",
    "        main_dict = {}\n",
    "        found = False\n",
    "        for index, num in enumerate(nums):\n",
    "            if target-num not in main_dict:\n",
    "                temp_list = (target - num, index)\n",
    "                main_dict[num] = temp_list\n",
    "            else:\n",
    "                found = True\n",
    "                return [main_dict[target-num][1], index]\n",
    "        \n",
    "        if found is False:\n",
    "            return [-1,-1]\n",
    "                    \n",
    "if __name__ == '__main__':\n",
    "    \n",
    "    sol = Solution()\n",
    "    print(sol.twoSum([2,7,11,15], 9))"
   ]
  },
  {
   "cell_type": "markdown",
   "metadata": {},
   "source": [
    "### Running Sum for 1-D array"
   ]
  },
  {
   "cell_type": "markdown",
   "metadata": {},
   "source": [
    "Given an array nums. We define a running sum of an array as runningSum[i] = sum(nums[0]…nums[i]).\n",
    "\n",
    "Return the running sum of nums.\n",
    "\n",
    " \n",
    "\n",
    "Example 1:\n",
    "\n",
    "Input: nums = [1,2,3,4]\n",
    "Output: [1,3,6,10]\n",
    "Explanation: Running sum is obtained as follows: [1, 1+2, 1+2+3, 1+2+3+4].\n",
    "Example 2:\n",
    "\n",
    "Input: nums = [1,1,1,1,1]\n",
    "Output: [1,2,3,4,5]\n",
    "Explanation: Running sum is obtained as follows: [1, 1+1, 1+1+1, 1+1+1+1, 1+1+1+1+1].\n",
    "Example 3:\n",
    "\n",
    "Input: nums = [3,1,2,10,1]\n",
    "Output: [3,4,6,16,17]\n",
    " \n",
    "\n",
    "Constraints:\n",
    "\n",
    "1 <= nums.length <= 1000\n",
    "-10^6 <= nums[i] <= 10"
   ]
  },
  {
   "cell_type": "code",
   "execution_count": 48,
   "metadata": {},
   "outputs": [
    {
     "name": "stdout",
     "output_type": "stream",
     "text": [
      "[1, 3, 6, 10, 15]\n"
     ]
    }
   ],
   "source": [
    "class Solution:\n",
    "    def runningSum(self, nums):\n",
    "        \"\"\"\n",
    "        :type nums: List[int]\n",
    "        :rtype: List[int]\n",
    "        \"\"\"\n",
    "        \n",
    "        res = [nums[0]]\n",
    "        for i in range(1,len(nums)):\n",
    "            res.append(res[-1]+nums[i])\n",
    "            \n",
    "        return res\n",
    "    \n",
    "    def runningSumSameArray(self, nums):\n",
    "        \n",
    "        for i in range(1, len(nums)):\n",
    "            nums[i] = nums[i-1]+nums[i]\n",
    "        \n",
    "        return nums\n",
    "        \n",
    "if __name__ == '__main__':\n",
    "    \n",
    "    sol = Solution()\n",
    "    print(sol.runningSumSameArray([1,2,3,4,5]))"
   ]
  },
  {
   "cell_type": "markdown",
   "metadata": {},
   "source": [
    "### Median of two sorted arrays: - to be done later"
   ]
  },
  {
   "cell_type": "markdown",
   "metadata": {},
   "source": [
    "There are two sorted arrays nums1 and nums2 of size m and n respectively.\n",
    "\n",
    "Find the median of the two sorted arrays. The overall run time complexity should be O(log (m+n)).\n",
    "\n",
    "You may assume nums1 and nums2 cannot be both empty.\n",
    "\n",
    "Example 1:\n",
    "\n",
    "nums1 = [1, 3]\n",
    "nums2 = [2]\n",
    "\n",
    "The median is 2.0<br>\n",
    "Example 2:\n",
    "\n",
    "nums1 = [1, 2]\n",
    "nums2 = [3, 4]\n",
    "\n",
    "The median is (2 + 3)/2 = 2.5"
   ]
  },
  {
   "cell_type": "code",
   "execution_count": 77,
   "metadata": {},
   "outputs": [
    {
     "name": "stdout",
     "output_type": "stream",
     "text": [
      "1\n"
     ]
    }
   ],
   "source": [
    "from statistics import mean\n",
    "\n",
    "class Solution:\n",
    "    def findMedianSortedArraysNaive(self, nums1, nums2):\n",
    "        \"\"\"\n",
    "        :type nums1: List[int]\n",
    "        :type nums2: List[int]\n",
    "        :rtype: float\n",
    "        \"\"\"\n",
    "        arr = sorted(nums1+nums2)\n",
    "        \n",
    "        if len(arr)%2 == 0:\n",
    "            median_index = [len(arr)/2, (len(arr)/2)+1]\n",
    "            return (arr[median_index[0]-1] + arr[median_index[1]-1] )/ 2\n",
    "        else:\n",
    "            median_index = [(len(arr)//2)+1]\n",
    "            return (arr[median_index[0]-1])\n",
    "    \n",
    "        \n",
    "    def findMedianSortedArrays(self, nums1, nums2):\n",
    "        \"\"\"\n",
    "        :type nums1: List[int]\n",
    "        :type nums2: List[int]\n",
    "        :rtype: float\n",
    "        \"\"\"\n",
    "        res = []\n",
    "        total_length = len(nums1) + len(nums2) - 1\n",
    "        \n",
    "        if total_length % 2 == 0:\n",
    "            median_index = [total_length//2]\n",
    "        else:\n",
    "            median_index = [total_length//2, (total_length//2)+1]\n",
    "        \n",
    "        while(len(nums1) > 0 or len(nums2) > 0):\n",
    "            \n",
    "            # Single comparision\n",
    "            \n",
    "            if len(nums1) > 0 and len(nums2) > 0:\n",
    "            \n",
    "                if nums1[0] > nums2[0]:\n",
    "                    res.append(nums1[0])\n",
    "                    del nums1[0]\n",
    "\n",
    "                if nums1[0] < nums2[0]:\n",
    "                    res.append(nums2[0])\n",
    "                    del nums2[0]\n",
    "            \n",
    "            elif len(nums1) == 0:\n",
    "                \n",
    "                res.append(nums2[0])\n",
    "                del nums2[0]\n",
    "                \n",
    "            elif len(nums2) == 0:\n",
    "                \n",
    "                res.append(nums1[0])\n",
    "                del nums1[0]\n",
    "                \n",
    "            if median_index[-1]+2 == len(res):\n",
    "                temp = list()\n",
    "                for index in median_index:\n",
    "                    temp.append(res[index])\n",
    "                \n",
    "                return mean(temp)\n",
    "                \n",
    "                    \n",
    "                \n",
    "\n",
    "if __name__ == '__main__':\n",
    "    \n",
    "    sol = Solution()\n",
    "    print(sol.findMedianSortedArrays(nums1 = [1, 3], nums2 = [2]))"
   ]
  },
  {
   "cell_type": "markdown",
   "metadata": {},
   "source": [
    "### Number of good pairs"
   ]
  },
  {
   "cell_type": "markdown",
   "metadata": {},
   "source": [
    "Given an array of integers nums.\n",
    "\n",
    "A pair (i,j) is called good if nums[i] == nums[j] and i < j.\n",
    "\n",
    "Return the number of good pairs.\n",
    "\n",
    " \n",
    "\n",
    "Example 1:\n",
    "\n",
    "Input: nums = [1,2,3,1,1,3] <br>\n",
    "Output: 4<br>\n",
    "Explanation: There are 4 good pairs (0,3), (0,4), (3,4), (2,5) 0-indexed.<br>\n",
    "Example 2:<br>\n",
    "<br>\n",
    "Input: nums = [1,1,1,1]\n",
    "Output: 6<br>\n",
    "Explanation: Each pair in the array are good.<br>\n",
    "Example 3:<br>\n",
    "\n",
    "Input: nums = [1,2,3]<br>\n",
    "Output: 0<br>\n",
    " \n",
    "\n",
    "Constraints:<br>\n",
    "\n",
    "1 <= nums.length <= 100<br>\n",
    "1 <= nums[i] <= 100"
   ]
  },
  {
   "cell_type": "code",
   "execution_count": 108,
   "metadata": {},
   "outputs": [
    {
     "name": "stdout",
     "output_type": "stream",
     "text": [
      "6\n"
     ]
    }
   ],
   "source": [
    "class Solution:\n",
    "    def numIdenticalPairs(self, nums):\n",
    "        \"\"\"\n",
    "        :type nums: List[int]\n",
    "        :rtype: int\n",
    "        \"\"\"\n",
    "        main_dict = dict()\n",
    "        res = []\n",
    "        for index,num in enumerate(nums):\n",
    "            if num not in main_dict:\n",
    "                temp_list = list()\n",
    "                temp_list.append(index)\n",
    "                main_dict[num] = temp_list\n",
    "            else:\n",
    "                main_dict[num].append(index)\n",
    "        \n",
    "        flag = True\n",
    "        for key in main_dict.keys():\n",
    "            if len(main_dict[key]) > 1:\n",
    "                if flag == True:\n",
    "                    res.append(self.indexCombinations(main_dict[key]))\n",
    "                    flag = False\n",
    "                else:\n",
    "                    res[0] = res[-1] + self.indexCombinations(main_dict[key])\n",
    "                    \n",
    "        if len(res) > 0:\n",
    "            return len(res[-1])\n",
    "        else:\n",
    "            return 0\n",
    "                \n",
    "        \n",
    "    def indexCombinations(self, index_list):\n",
    "\n",
    "        res = []\n",
    "        i = 0\n",
    "        while(i != len(index_list)):\n",
    "            for j in range(i, len(index_list)):\n",
    "                if i != j:\n",
    "                    res.append((index_list[i], index_list[j]))\n",
    "            i += 1\n",
    "        return res\n",
    "        \n",
    "if __name__ == '__main__':\n",
    "    \n",
    "    sol = Solution()\n",
    "    print(sol.numIdenticalPairs([1,1,1,1]))"
   ]
  },
  {
   "cell_type": "markdown",
   "metadata": {},
   "source": [
    "### Sort Array By Parity"
   ]
  },
  {
   "cell_type": "markdown",
   "metadata": {},
   "source": [
    "Given an array A of non-negative integers, return an array consisting of all the even elements of A, followed by all the odd elements of A.\n",
    "\n",
    "You may return any answer array that satisfies this condition.\n",
    "\n",
    " \n",
    "\n",
    "Example 1:<br><br>\n",
    "\n",
    "Input: [3,1,2,4] <br>\n",
    "Output: [2,4,3,1]<br>\n",
    "The outputs [4,2,3,1], [2,4,1,3], and [4,2,1,3] would also be accepted."
   ]
  },
  {
   "cell_type": "code",
   "execution_count": 109,
   "metadata": {},
   "outputs": [
    {
     "name": "stdout",
     "output_type": "stream",
     "text": [
      "[2, 4, 3, 1]\n"
     ]
    }
   ],
   "source": [
    "class Solution:\n",
    "    def sortArrayByParityNaive(self, A):\n",
    "        \"\"\"\n",
    "        :type A: List[int]\n",
    "        :rtype: List[int]\n",
    "        \"\"\"\n",
    "        even = list()\n",
    "        odd = list()\n",
    "        for num in A:\n",
    "            if num%2 == 0:\n",
    "                even.append(num)\n",
    "            else:\n",
    "                odd.append(num)\n",
    "        return even+odd\n",
    "    \n",
    "    def sortArrayByParity(self, A):\n",
    "        \"\"\"\n",
    "        :type A: List[int]\n",
    "        :rtype: List[int]\n",
    "        \"\"\"\n",
    "        A.sort(key = lambda x: x % 2)\n",
    "        return A\n",
    "        \n",
    "        \n",
    "if __name__ == '__main__':\n",
    "    \n",
    "    sol = Solution()\n",
    "    print(sol.sortArrayByParity([3,1,2,4]))"
   ]
  },
  {
   "cell_type": "markdown",
   "metadata": {},
   "source": [
    "### Search inserted position"
   ]
  },
  {
   "cell_type": "markdown",
   "metadata": {},
   "source": [
    "Given a sorted array and a target value, return the index if the target is found. If not, return the index where it would be if it were inserted in order.\n",
    "\n",
    "You may assume no duplicates in the array.\n",
    "\n",
    "Example 1: <br> <br>\n",
    "\n",
    "Input: [1,3,5,6], 5 <br>\n",
    "Output: 2 <br>\n",
    "Example 2: <br> <br>\n",
    "\n",
    "Input: [1,3,5,6], 2 <br>\n",
    "Output: 1 <br>\n",
    "Example 3: <br>\n",
    "\n",
    "Input: [1,3,5,6], 7 <br>\n",
    "Output: 4 <br>\n",
    "Example 4: <br>\n",
    "\n",
    "Input: [1,3,5,6], 0 <br>\n",
    "Output: 0 <br>"
   ]
  },
  {
   "cell_type": "code",
   "execution_count": 33,
   "metadata": {},
   "outputs": [
    {
     "name": "stdout",
     "output_type": "stream",
     "text": [
      "Mid point is 1\n",
      "2nd point\n",
      "1\n"
     ]
    }
   ],
   "source": [
    "class Solution:\n",
    "\n",
    "    def searchInsert(self, nums, target):\n",
    "        \"\"\"\n",
    "        :type nums: List[int]\n",
    "        :type target: int\n",
    "        :rtype: int\n",
    "        \"\"\"\n",
    "        mid_point = len(nums) // 2\n",
    "        print('Mid point is', mid_point)\n",
    "        \n",
    "        if nums[mid_point] == target:\n",
    "            return mid_point\n",
    "        \n",
    "        if len(nums) == 2:\n",
    "            \n",
    "            if target <= nums[0]:\n",
    "                print('1st point')\n",
    "                return mid_point - 1\n",
    "            \n",
    "            elif target == nums[-1] or target > nums[0]:\n",
    "                print('2nd point')\n",
    "                return mid_point\n",
    "            \n",
    "            elif target > nums[-1]:\n",
    "                print('3rd point')\n",
    "                return mid_point + 1\n",
    "            \n",
    "        else:\n",
    "        \n",
    "            if nums[mid_point] > target:\n",
    "                self.searchInsert(nums[:mid_point+1], target)\n",
    "\n",
    "            elif nums[mid_point] < target:\n",
    "                self.searchInsert(nums[mid_point:], target)\n",
    "            \n",
    "    def searchInsertNaive(self, nums, target):\n",
    "        \n",
    "        if not nums:\n",
    "            return 0\n",
    "        \n",
    "        for index, num in enumerate(nums):\n",
    "            diff = target - num\n",
    "            if diff < 0:\n",
    "                return 0\n",
    "            elif diff == 0:\n",
    "                return index\n",
    "            elif index < len(nums)-1:\n",
    "                diff1 = target - nums[index+1]\n",
    "                if diff > 0 and diff1 < 0:\n",
    "                    \n",
    "                    return index+1\n",
    "            elif index == len(nums)-1:\n",
    "                return index+1\n",
    "        \n",
    "if __name__ == '__main__':\n",
    "    \n",
    "    sol = Solution()\n",
    "    print(sol.searchInsert([1,3], 4))"
   ]
  },
  {
   "cell_type": "markdown",
   "metadata": {},
   "source": [
    "### Best time to buy and sell stocks I"
   ]
  },
  {
   "cell_type": "markdown",
   "metadata": {},
   "source": [
    "Say you have an array for which the ith element is the price of a given stock on day i.\n",
    "\n",
    "If you were only permitted to complete at most one transaction (i.e., buy one and sell one share of the stock), design an algorithm to find the maximum profit.\n",
    "\n",
    "Note that you cannot sell a stock before you buy one.<br>\n",
    "\n",
    "Example 1:<br>\n",
    "\n",
    "Input: [7,1,5,3,6,4]<br>\n",
    "Output: 5<br>\n",
    "Explanation: Buy on day 2 (price = 1) and sell on day 5 (price = 6), profit = 6-1 = 5.<br>\n",
    "             Not 7-1 = 6, as selling price needs to be larger than buying price.<br>\n",
    "Example 2:\n",
    "\n",
    "Input: [7,6,4,3,1]<br>\n",
    "Output: 0<br>\n",
    "Explanation: In this case, no transaction is done, i.e. max profit = 0.<br>"
   ]
  },
  {
   "cell_type": "code",
   "execution_count": 26,
   "metadata": {},
   "outputs": [
    {
     "name": "stdout",
     "output_type": "stream",
     "text": [
      "2\n"
     ]
    }
   ],
   "source": [
    "class Solution:\n",
    "    def maxProfit(self, prices):\n",
    "        \"\"\"\n",
    "        :type prices: List[int]\n",
    "        :rtype: int\n",
    "        \"\"\"\n",
    "        if not prices:\n",
    "                return 0\n",
    "        \n",
    "        dict_ = dict()\n",
    "\n",
    "        for price in prices:\n",
    "            if price not in dict_:\n",
    "                temp_list = []\n",
    "                main_dict[price] = temp_list\n",
    "            else:\n",
    "                \n",
    "\n",
    "if __name__ == '__main__':\n",
    "    \n",
    "    sol = Solution()\n",
    "    print(sol.maxProfit([2,4,1]))"
   ]
  },
  {
   "cell_type": "markdown",
   "metadata": {},
   "source": [
    "### Shortest Unsorted Continuous Subarray"
   ]
  },
  {
   "cell_type": "markdown",
   "metadata": {},
   "source": [
    "Given an integer array, you need to find one continuous subarray that if you only sort this subarray in ascending order, then the whole array will be sorted in ascending order, too.\n",
    "\n",
    "You need to find the shortest such subarray and output its length.\n",
    "\n",
    "Example 1: <br>\n",
    "Input: [2, 6, 4, 8, 10, 9, 15]<br>\n",
    "Output: 5<br>\n",
    "Explanation: You need to sort [6, 4, 8, 10, 9] in ascending order to make the whole array sorted in ascending order.<br>\n",
    "Note:<br>\n",
    "Then length of the input array is in range [1, 10,000].<br>\n",
    "The input array may contain duplicates, so ascending order here means <=.<br>"
   ]
  },
  {
   "cell_type": "code",
   "execution_count": null,
   "metadata": {},
   "outputs": [],
   "source": [
    "class Solution:\n",
    "    def findUnsortedSubarray(self, nums):\n",
    "        \"\"\"\n",
    "        :type nums: List[int]\n",
    "        :rtype: int\n",
    "        \"\"\"\n",
    "        \n",
    "if __name__ == '__main__':\n",
    "        \n",
    "    sol = Solution()\n",
    "    print(sol.findUnsortedSubarray([2,4,1]))"
   ]
  }
 ],
 "metadata": {
  "kernelspec": {
   "display_name": "Python 3",
   "language": "python",
   "name": "python3"
  },
  "language_info": {
   "codemirror_mode": {
    "name": "ipython",
    "version": 3
   },
   "file_extension": ".py",
   "mimetype": "text/x-python",
   "name": "python",
   "nbconvert_exporter": "python",
   "pygments_lexer": "ipython3",
   "version": "3.7.4"
  }
 },
 "nbformat": 4,
 "nbformat_minor": 4
}
