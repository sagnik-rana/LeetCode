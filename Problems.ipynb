{
 "cells": [
  {
   "cell_type": "markdown",
   "metadata": {},
   "source": [
    "### Two Sum"
   ]
  },
  {
   "cell_type": "markdown",
   "metadata": {},
   "source": [
    "Given an array of integers, return indices of the two numbers such that they add up to a specific target.\n",
    "\n",
    "You may assume that each input would have exactly one solution, and you may not use the same element twice.\n",
    "\n",
    "Example:\n",
    "\n",
    "Given nums = [2, 7, 11, 15], target = 9,\n",
    "\n",
    "Because nums[0] + nums[1] = 2 + 7 = 9,\n",
    "return [0, 1]."
   ]
  },
  {
   "cell_type": "code",
   "execution_count": 39,
   "metadata": {},
   "outputs": [
    {
     "name": "stdout",
     "output_type": "stream",
     "text": [
      "[0, 1]\n"
     ]
    }
   ],
   "source": [
    "class Solution:\n",
    "    \n",
    "    def twoSum(self, nums, target):\n",
    "        \"\"\"\n",
    "        :type nums: List[int]\n",
    "        :type target: int\n",
    "        :rtype: List[int]\n",
    "        \"\"\"\n",
    "        main_dict = {}\n",
    "        found = False\n",
    "        for index, num in enumerate(nums):\n",
    "            if target-num not in main_dict:\n",
    "                temp_list = (target - num, index)\n",
    "                main_dict[num] = temp_list\n",
    "            else:\n",
    "                found = True\n",
    "                return [main_dict[target-num][1], index]\n",
    "        \n",
    "        if found is False:\n",
    "            return [-1,-1]\n",
    "                    \n",
    "if __name__ == '__main__':\n",
    "    \n",
    "    sol = Solution()\n",
    "    print(sol.twoSum([2,7,11,15], 9))"
   ]
  },
  {
   "cell_type": "markdown",
   "metadata": {},
   "source": [
    "### Running Sum for 1-D array"
   ]
  },
  {
   "cell_type": "markdown",
   "metadata": {},
   "source": [
    "Given an array nums. We define a running sum of an array as runningSum[i] = sum(nums[0]…nums[i]).\n",
    "\n",
    "Return the running sum of nums.\n",
    "\n",
    " \n",
    "\n",
    "Example 1:\n",
    "\n",
    "Input: nums = [1,2,3,4]\n",
    "Output: [1,3,6,10]\n",
    "Explanation: Running sum is obtained as follows: [1, 1+2, 1+2+3, 1+2+3+4].\n",
    "Example 2:\n",
    "\n",
    "Input: nums = [1,1,1,1,1]\n",
    "Output: [1,2,3,4,5]\n",
    "Explanation: Running sum is obtained as follows: [1, 1+1, 1+1+1, 1+1+1+1, 1+1+1+1+1].\n",
    "Example 3:\n",
    "\n",
    "Input: nums = [3,1,2,10,1]\n",
    "Output: [3,4,6,16,17]\n",
    " \n",
    "\n",
    "Constraints:\n",
    "\n",
    "1 <= nums.length <= 1000\n",
    "-10^6 <= nums[i] <= 10"
   ]
  },
  {
   "cell_type": "code",
   "execution_count": 48,
   "metadata": {},
   "outputs": [
    {
     "name": "stdout",
     "output_type": "stream",
     "text": [
      "[1, 3, 6, 10, 15]\n"
     ]
    }
   ],
   "source": [
    "class Solution:\n",
    "    def runningSum(self, nums):\n",
    "        \"\"\"\n",
    "        :type nums: List[int]\n",
    "        :rtype: List[int]\n",
    "        \"\"\"\n",
    "        \n",
    "        res = [nums[0]]\n",
    "        for i in range(1,len(nums)):\n",
    "            res.append(res[-1]+nums[i])\n",
    "            \n",
    "        return res\n",
    "    \n",
    "    def runningSumSameArray(self, nums):\n",
    "        \n",
    "        for i in range(1, len(nums)):\n",
    "            nums[i] = nums[i-1]+nums[i]\n",
    "        \n",
    "        return nums\n",
    "        \n",
    "if __name__ == '__main__':\n",
    "    \n",
    "    sol = Solution()\n",
    "    print(sol.runningSumSameArray([1,2,3,4,5]))"
   ]
  },
  {
   "cell_type": "markdown",
   "metadata": {},
   "source": [
    "### Median of two sorted arrays: - to be done later"
   ]
  },
  {
   "cell_type": "markdown",
   "metadata": {},
   "source": [
    "There are two sorted arrays nums1 and nums2 of size m and n respectively.\n",
    "\n",
    "Find the median of the two sorted arrays. The overall run time complexity should be O(log (m+n)).\n",
    "\n",
    "You may assume nums1 and nums2 cannot be both empty.\n",
    "\n",
    "Example 1:\n",
    "\n",
    "nums1 = [1, 3]\n",
    "nums2 = [2]\n",
    "\n",
    "The median is 2.0<br>\n",
    "Example 2:\n",
    "\n",
    "nums1 = [1, 2]\n",
    "nums2 = [3, 4]\n",
    "\n",
    "The median is (2 + 3)/2 = 2.5"
   ]
  },
  {
   "cell_type": "code",
   "execution_count": 77,
   "metadata": {},
   "outputs": [
    {
     "name": "stdout",
     "output_type": "stream",
     "text": [
      "1\n"
     ]
    }
   ],
   "source": [
    "from statistics import mean\n",
    "\n",
    "class Solution:\n",
    "    def findMedianSortedArraysNaive(self, nums1, nums2):\n",
    "        \"\"\"\n",
    "        :type nums1: List[int]\n",
    "        :type nums2: List[int]\n",
    "        :rtype: float\n",
    "        \"\"\"\n",
    "        arr = sorted(nums1+nums2)\n",
    "        \n",
    "        if len(arr)%2 == 0:\n",
    "            median_index = [len(arr)/2, (len(arr)/2)+1]\n",
    "            return (arr[median_index[0]-1] + arr[median_index[1]-1] )/ 2\n",
    "        else:\n",
    "            median_index = [(len(arr)//2)+1]\n",
    "            return (arr[median_index[0]-1])\n",
    "    \n",
    "        \n",
    "    def findMedianSortedArrays(self, nums1, nums2):\n",
    "        \"\"\"\n",
    "        :type nums1: List[int]\n",
    "        :type nums2: List[int]\n",
    "        :rtype: float\n",
    "        \"\"\"\n",
    "        res = []\n",
    "        total_length = len(nums1) + len(nums2) - 1\n",
    "        \n",
    "        if total_length % 2 == 0:\n",
    "            median_index = [total_length//2]\n",
    "        else:\n",
    "            median_index = [total_length//2, (total_length//2)+1]\n",
    "        \n",
    "        while(len(nums1) > 0 or len(nums2) > 0):\n",
    "            \n",
    "            # Single comparision\n",
    "            \n",
    "            if len(nums1) > 0 and len(nums2) > 0:\n",
    "            \n",
    "                if nums1[0] > nums2[0]:\n",
    "                    res.append(nums1[0])\n",
    "                    del nums1[0]\n",
    "\n",
    "                if nums1[0] < nums2[0]:\n",
    "                    res.append(nums2[0])\n",
    "                    del nums2[0]\n",
    "            \n",
    "            elif len(nums1) == 0:\n",
    "                \n",
    "                res.append(nums2[0])\n",
    "                del nums2[0]\n",
    "                \n",
    "            elif len(nums2) == 0:\n",
    "                \n",
    "                res.append(nums1[0])\n",
    "                del nums1[0]\n",
    "                \n",
    "            if median_index[-1]+2 == len(res):\n",
    "                temp = list()\n",
    "                for index in median_index:\n",
    "                    temp.append(res[index])\n",
    "                \n",
    "                return mean(temp)\n",
    "                \n",
    "                    \n",
    "                \n",
    "\n",
    "if __name__ == '__main__':\n",
    "    \n",
    "    sol = Solution()\n",
    "    print(sol.findMedianSortedArrays(nums1 = [1, 3], nums2 = [2]))"
   ]
  },
  {
   "cell_type": "markdown",
   "metadata": {},
   "source": [
    "### Number of good pairs"
   ]
  },
  {
   "cell_type": "markdown",
   "metadata": {},
   "source": [
    "Given an array of integers nums.\n",
    "\n",
    "A pair (i,j) is called good if nums[i] == nums[j] and i < j.\n",
    "\n",
    "Return the number of good pairs.\n",
    "\n",
    " \n",
    "\n",
    "Example 1:\n",
    "\n",
    "Input: nums = [1,2,3,1,1,3] <br>\n",
    "Output: 4<br>\n",
    "Explanation: There are 4 good pairs (0,3), (0,4), (3,4), (2,5) 0-indexed.<br>\n",
    "Example 2:<br>\n",
    "<br>\n",
    "Input: nums = [1,1,1,1]\n",
    "Output: 6<br>\n",
    "Explanation: Each pair in the array are good.<br>\n",
    "Example 3:<br>\n",
    "\n",
    "Input: nums = [1,2,3]<br>\n",
    "Output: 0<br>\n",
    " \n",
    "\n",
    "Constraints:<br>\n",
    "\n",
    "1 <= nums.length <= 100<br>\n",
    "1 <= nums[i] <= 100"
   ]
  },
  {
   "cell_type": "code",
   "execution_count": null,
   "metadata": {},
   "outputs": [],
   "source": [
    "class Solution:\n",
    "    def numIdenticalPairs(self, nums):\n",
    "        \"\"\"\n",
    "        :type nums: List[int]\n",
    "        :rtype: int\n",
    "        \"\"\"\n",
    "\n",
    "        \n",
    "if __name__ == '__main__':\n",
    "    \n",
    "    sol = Solution()\n",
    "    print(sol.numIdenticalPairs([1,1,1,1]))"
   ]
  }
 ],
 "metadata": {
  "kernelspec": {
   "display_name": "Python 3",
   "language": "python",
   "name": "python3"
  },
  "language_info": {
   "codemirror_mode": {
    "name": "ipython",
    "version": 3
   },
   "file_extension": ".py",
   "mimetype": "text/x-python",
   "name": "python",
   "nbconvert_exporter": "python",
   "pygments_lexer": "ipython3",
   "version": "3.7.4"
  }
 },
 "nbformat": 4,
 "nbformat_minor": 4
}
